{
  "cells": [
    {
      "cell_type": "code",
      "execution_count": 1,
      "metadata": {
        "colab": {
          "base_uri": "https://localhost:8080/"
        },
        "id": "9r0Cpv2KysCA",
        "outputId": "809fa107-03f5-4f93-8875-65dcb9ea35d1"
      },
      "outputs": [
        {
          "output_type": "stream",
          "name": "stderr",
          "text": [
            "[nltk_data] Downloading package punkt_tab to /root/nltk_data...\n",
            "[nltk_data]   Unzipping tokenizers/punkt_tab.zip.\n",
            "[nltk_data] Downloading package stopwords to /root/nltk_data...\n",
            "[nltk_data]   Unzipping corpora/stopwords.zip.\n",
            "[nltk_data] Downloading package wordnet to /root/nltk_data...\n",
            "[nltk_data] Downloading package omw-1.4 to /root/nltk_data...\n"
          ]
        }
      ],
      "source": [
        "import pandas as pd\n",
        "import re\n",
        "import nltk\n",
        "from nltk.corpus import stopwords\n",
        "from nltk.tokenize import word_tokenize\n",
        "from nltk.stem import WordNetLemmatizer\n",
        "\n",
        "from sklearn.model_selection import train_test_split\n",
        "from sklearn.feature_extraction.text import CountVectorizer\n",
        "from sklearn.naive_bayes import MultinomialNB\n",
        "from sklearn.metrics import classification_report, accuracy_score\n",
        "\n",
        "import joblib\n",
        "# Download necessary NLTK resources\n",
        "\n",
        "nltk.download('punkt_tab')\n",
        "nltk.download('stopwords')\n",
        "nltk.download('wordnet')\n",
        "nltk.download('omw-1.4')\n",
        "\n",
        "# Load your dataset\n",
        "file_path = \"twitter_training.csv\"  # Replace with your file path\n",
        "data = pd.read_csv(file_path)\n",
        "\n"
      ]
    },
    {
      "cell_type": "code",
      "execution_count": 2,
      "metadata": {
        "id": "n9_2Yna5CnDC"
      },
      "outputs": [],
      "source": [
        "# Rename relevant columns\n",
        "data = data.rename(\n",
        "    columns={\n",
        "        'Positive': 'Sentiment',\n",
        "        'im getting on borderlands and i will murder you all ,': 'Text'\n",
        "    }\n",
        ")\n",
        "\n",
        "# Select only the relevant columns and drop missing values\n",
        "data = data[['Sentiment', 'Text']].dropna(subset=['Text']).reset_index(drop=True)\n",
        "\n",
        "# Filter to keep only relevant sentiments\n",
        "data = data[data['Sentiment'].isin(['Positive', 'Neutral', 'Negative'])].reset_index(drop=True)\n",
        "\n",
        "# Text preprocessing function\n",
        "def preprocess_text(text):\n",
        "    # Lowercase the text\n",
        "    text = text.lower()\n",
        "    # Remove URLs\n",
        "    text = re.sub(r'http\\S+|www\\S+|https\\S+', '', text, flags=re.MULTILINE)\n",
        "    # Remove user mentions (@username)\n",
        "    text = re.sub(r'@\\w+', '', text)\n",
        "    # Remove special characters, numbers, and punctuation\n",
        "    text = re.sub(r'[^a-zA-Z\\s]', '', text)\n",
        "    # Tokenize the text\n",
        "    words = word_tokenize(text)\n",
        "    # Remove stop words\n",
        "    stop_words = set(stopwords.words('english'))\n",
        "    words = [word for word in words if word not in stop_words]\n",
        "    # Lemmatize the words\n",
        "    lemmatizer = WordNetLemmatizer()\n",
        "    words = [lemmatizer.lemmatize(word) for word in words]\n",
        "    # Join the cleaned words back into a single string\n",
        "    return ' '.join(words)"
      ]
    },
    {
      "cell_type": "code",
      "execution_count": 3,
      "metadata": {
        "colab": {
          "base_uri": "https://localhost:8080/"
        },
        "id": "8PXRXeOXz3Ht",
        "outputId": "ae67b6a4-ddf2-4c5c-92e2-f1f26b1cab9d"
      },
      "outputs": [
        {
          "output_type": "stream",
          "name": "stdout",
          "text": [
            "  Sentiment                  Cleaned_Text\n",
            "0  Positive            coming border kill\n",
            "1  Positive    im getting borderland kill\n",
            "2  Positive   im coming borderland murder\n",
            "3  Positive  im getting borderland murder\n",
            "4  Positive  im getting borderland murder\n"
          ]
        }
      ],
      "source": [
        "\n",
        "# Apply preprocessing to the text column\n",
        "data['Cleaned_Text'] = data['Text'].apply(preprocess_text)\n",
        "\n",
        "# Display the cleaned dataset\n",
        "print(data[['Sentiment', 'Cleaned_Text']].head())\n",
        "\n",
        "# Save the cleaned dataset if needed\n",
        "data.to_csv('cleaned_twitter_data.csv', index=False)\n",
        "\n"
      ]
    },
    {
      "cell_type": "code",
      "source": [
        "data.head()"
      ],
      "metadata": {
        "id": "6pcf15EeL4WI",
        "outputId": "37ab9bae-d3f6-4019-b6dd-4a8646a48ea5",
        "colab": {
          "base_uri": "https://localhost:8080/",
          "height": 206
        }
      },
      "execution_count": 14,
      "outputs": [
        {
          "output_type": "execute_result",
          "data": {
            "text/plain": [
              "   Sentiment                                               Text\n",
              "0          2  i am coming to the border and i will kill you ...\n",
              "1          2  im getting on borderland and i will kill you all,\n",
              "2          2  im coming on borderland and i will murder you ...\n",
              "3          2  im getting on borderland 2 and i will murder y...\n",
              "4          2  im getting into borderland and i can murder yo..."
            ],
            "text/html": [
              "\n",
              "  <div id=\"df-0a1b8ec9-7f50-4aa6-b0ea-108b189b369f\" class=\"colab-df-container\">\n",
              "    <div>\n",
              "<style scoped>\n",
              "    .dataframe tbody tr th:only-of-type {\n",
              "        vertical-align: middle;\n",
              "    }\n",
              "\n",
              "    .dataframe tbody tr th {\n",
              "        vertical-align: top;\n",
              "    }\n",
              "\n",
              "    .dataframe thead th {\n",
              "        text-align: right;\n",
              "    }\n",
              "</style>\n",
              "<table border=\"1\" class=\"dataframe\">\n",
              "  <thead>\n",
              "    <tr style=\"text-align: right;\">\n",
              "      <th></th>\n",
              "      <th>Sentiment</th>\n",
              "      <th>Text</th>\n",
              "    </tr>\n",
              "  </thead>\n",
              "  <tbody>\n",
              "    <tr>\n",
              "      <th>0</th>\n",
              "      <td>2</td>\n",
              "      <td>i am coming to the border and i will kill you ...</td>\n",
              "    </tr>\n",
              "    <tr>\n",
              "      <th>1</th>\n",
              "      <td>2</td>\n",
              "      <td>im getting on borderland and i will kill you all,</td>\n",
              "    </tr>\n",
              "    <tr>\n",
              "      <th>2</th>\n",
              "      <td>2</td>\n",
              "      <td>im coming on borderland and i will murder you ...</td>\n",
              "    </tr>\n",
              "    <tr>\n",
              "      <th>3</th>\n",
              "      <td>2</td>\n",
              "      <td>im getting on borderland 2 and i will murder y...</td>\n",
              "    </tr>\n",
              "    <tr>\n",
              "      <th>4</th>\n",
              "      <td>2</td>\n",
              "      <td>im getting into borderland and i can murder yo...</td>\n",
              "    </tr>\n",
              "  </tbody>\n",
              "</table>\n",
              "</div>\n",
              "    <div class=\"colab-df-buttons\">\n",
              "\n",
              "  <div class=\"colab-df-container\">\n",
              "    <button class=\"colab-df-convert\" onclick=\"convertToInteractive('df-0a1b8ec9-7f50-4aa6-b0ea-108b189b369f')\"\n",
              "            title=\"Convert this dataframe to an interactive table.\"\n",
              "            style=\"display:none;\">\n",
              "\n",
              "  <svg xmlns=\"http://www.w3.org/2000/svg\" height=\"24px\" viewBox=\"0 -960 960 960\">\n",
              "    <path d=\"M120-120v-720h720v720H120Zm60-500h600v-160H180v160Zm220 220h160v-160H400v160Zm0 220h160v-160H400v160ZM180-400h160v-160H180v160Zm440 0h160v-160H620v160ZM180-180h160v-160H180v160Zm440 0h160v-160H620v160Z\"/>\n",
              "  </svg>\n",
              "    </button>\n",
              "\n",
              "  <style>\n",
              "    .colab-df-container {\n",
              "      display:flex;\n",
              "      gap: 12px;\n",
              "    }\n",
              "\n",
              "    .colab-df-convert {\n",
              "      background-color: #E8F0FE;\n",
              "      border: none;\n",
              "      border-radius: 50%;\n",
              "      cursor: pointer;\n",
              "      display: none;\n",
              "      fill: #1967D2;\n",
              "      height: 32px;\n",
              "      padding: 0 0 0 0;\n",
              "      width: 32px;\n",
              "    }\n",
              "\n",
              "    .colab-df-convert:hover {\n",
              "      background-color: #E2EBFA;\n",
              "      box-shadow: 0px 1px 2px rgba(60, 64, 67, 0.3), 0px 1px 3px 1px rgba(60, 64, 67, 0.15);\n",
              "      fill: #174EA6;\n",
              "    }\n",
              "\n",
              "    .colab-df-buttons div {\n",
              "      margin-bottom: 4px;\n",
              "    }\n",
              "\n",
              "    [theme=dark] .colab-df-convert {\n",
              "      background-color: #3B4455;\n",
              "      fill: #D2E3FC;\n",
              "    }\n",
              "\n",
              "    [theme=dark] .colab-df-convert:hover {\n",
              "      background-color: #434B5C;\n",
              "      box-shadow: 0px 1px 3px 1px rgba(0, 0, 0, 0.15);\n",
              "      filter: drop-shadow(0px 1px 2px rgba(0, 0, 0, 0.3));\n",
              "      fill: #FFFFFF;\n",
              "    }\n",
              "  </style>\n",
              "\n",
              "    <script>\n",
              "      const buttonEl =\n",
              "        document.querySelector('#df-0a1b8ec9-7f50-4aa6-b0ea-108b189b369f button.colab-df-convert');\n",
              "      buttonEl.style.display =\n",
              "        google.colab.kernel.accessAllowed ? 'block' : 'none';\n",
              "\n",
              "      async function convertToInteractive(key) {\n",
              "        const element = document.querySelector('#df-0a1b8ec9-7f50-4aa6-b0ea-108b189b369f');\n",
              "        const dataTable =\n",
              "          await google.colab.kernel.invokeFunction('convertToInteractive',\n",
              "                                                    [key], {});\n",
              "        if (!dataTable) return;\n",
              "\n",
              "        const docLinkHtml = 'Like what you see? Visit the ' +\n",
              "          '<a target=\"_blank\" href=https://colab.research.google.com/notebooks/data_table.ipynb>data table notebook</a>'\n",
              "          + ' to learn more about interactive tables.';\n",
              "        element.innerHTML = '';\n",
              "        dataTable['output_type'] = 'display_data';\n",
              "        await google.colab.output.renderOutput(dataTable, element);\n",
              "        const docLink = document.createElement('div');\n",
              "        docLink.innerHTML = docLinkHtml;\n",
              "        element.appendChild(docLink);\n",
              "      }\n",
              "    </script>\n",
              "  </div>\n",
              "\n",
              "\n",
              "<div id=\"df-5c894960-3d0b-406a-8be0-6f4e93a4cb2c\">\n",
              "  <button class=\"colab-df-quickchart\" onclick=\"quickchart('df-5c894960-3d0b-406a-8be0-6f4e93a4cb2c')\"\n",
              "            title=\"Suggest charts\"\n",
              "            style=\"display:none;\">\n",
              "\n",
              "<svg xmlns=\"http://www.w3.org/2000/svg\" height=\"24px\"viewBox=\"0 0 24 24\"\n",
              "     width=\"24px\">\n",
              "    <g>\n",
              "        <path d=\"M19 3H5c-1.1 0-2 .9-2 2v14c0 1.1.9 2 2 2h14c1.1 0 2-.9 2-2V5c0-1.1-.9-2-2-2zM9 17H7v-7h2v7zm4 0h-2V7h2v10zm4 0h-2v-4h2v4z\"/>\n",
              "    </g>\n",
              "</svg>\n",
              "  </button>\n",
              "\n",
              "<style>\n",
              "  .colab-df-quickchart {\n",
              "      --bg-color: #E8F0FE;\n",
              "      --fill-color: #1967D2;\n",
              "      --hover-bg-color: #E2EBFA;\n",
              "      --hover-fill-color: #174EA6;\n",
              "      --disabled-fill-color: #AAA;\n",
              "      --disabled-bg-color: #DDD;\n",
              "  }\n",
              "\n",
              "  [theme=dark] .colab-df-quickchart {\n",
              "      --bg-color: #3B4455;\n",
              "      --fill-color: #D2E3FC;\n",
              "      --hover-bg-color: #434B5C;\n",
              "      --hover-fill-color: #FFFFFF;\n",
              "      --disabled-bg-color: #3B4455;\n",
              "      --disabled-fill-color: #666;\n",
              "  }\n",
              "\n",
              "  .colab-df-quickchart {\n",
              "    background-color: var(--bg-color);\n",
              "    border: none;\n",
              "    border-radius: 50%;\n",
              "    cursor: pointer;\n",
              "    display: none;\n",
              "    fill: var(--fill-color);\n",
              "    height: 32px;\n",
              "    padding: 0;\n",
              "    width: 32px;\n",
              "  }\n",
              "\n",
              "  .colab-df-quickchart:hover {\n",
              "    background-color: var(--hover-bg-color);\n",
              "    box-shadow: 0 1px 2px rgba(60, 64, 67, 0.3), 0 1px 3px 1px rgba(60, 64, 67, 0.15);\n",
              "    fill: var(--button-hover-fill-color);\n",
              "  }\n",
              "\n",
              "  .colab-df-quickchart-complete:disabled,\n",
              "  .colab-df-quickchart-complete:disabled:hover {\n",
              "    background-color: var(--disabled-bg-color);\n",
              "    fill: var(--disabled-fill-color);\n",
              "    box-shadow: none;\n",
              "  }\n",
              "\n",
              "  .colab-df-spinner {\n",
              "    border: 2px solid var(--fill-color);\n",
              "    border-color: transparent;\n",
              "    border-bottom-color: var(--fill-color);\n",
              "    animation:\n",
              "      spin 1s steps(1) infinite;\n",
              "  }\n",
              "\n",
              "  @keyframes spin {\n",
              "    0% {\n",
              "      border-color: transparent;\n",
              "      border-bottom-color: var(--fill-color);\n",
              "      border-left-color: var(--fill-color);\n",
              "    }\n",
              "    20% {\n",
              "      border-color: transparent;\n",
              "      border-left-color: var(--fill-color);\n",
              "      border-top-color: var(--fill-color);\n",
              "    }\n",
              "    30% {\n",
              "      border-color: transparent;\n",
              "      border-left-color: var(--fill-color);\n",
              "      border-top-color: var(--fill-color);\n",
              "      border-right-color: var(--fill-color);\n",
              "    }\n",
              "    40% {\n",
              "      border-color: transparent;\n",
              "      border-right-color: var(--fill-color);\n",
              "      border-top-color: var(--fill-color);\n",
              "    }\n",
              "    60% {\n",
              "      border-color: transparent;\n",
              "      border-right-color: var(--fill-color);\n",
              "    }\n",
              "    80% {\n",
              "      border-color: transparent;\n",
              "      border-right-color: var(--fill-color);\n",
              "      border-bottom-color: var(--fill-color);\n",
              "    }\n",
              "    90% {\n",
              "      border-color: transparent;\n",
              "      border-bottom-color: var(--fill-color);\n",
              "    }\n",
              "  }\n",
              "</style>\n",
              "\n",
              "  <script>\n",
              "    async function quickchart(key) {\n",
              "      const quickchartButtonEl =\n",
              "        document.querySelector('#' + key + ' button');\n",
              "      quickchartButtonEl.disabled = true;  // To prevent multiple clicks.\n",
              "      quickchartButtonEl.classList.add('colab-df-spinner');\n",
              "      try {\n",
              "        const charts = await google.colab.kernel.invokeFunction(\n",
              "            'suggestCharts', [key], {});\n",
              "      } catch (error) {\n",
              "        console.error('Error during call to suggestCharts:', error);\n",
              "      }\n",
              "      quickchartButtonEl.classList.remove('colab-df-spinner');\n",
              "      quickchartButtonEl.classList.add('colab-df-quickchart-complete');\n",
              "    }\n",
              "    (() => {\n",
              "      let quickchartButtonEl =\n",
              "        document.querySelector('#df-5c894960-3d0b-406a-8be0-6f4e93a4cb2c button');\n",
              "      quickchartButtonEl.style.display =\n",
              "        google.colab.kernel.accessAllowed ? 'block' : 'none';\n",
              "    })();\n",
              "  </script>\n",
              "</div>\n",
              "\n",
              "    </div>\n",
              "  </div>\n"
            ],
            "application/vnd.google.colaboratory.intrinsic+json": {
              "type": "dataframe",
              "variable_name": "data",
              "summary": "{\n  \"name\": \"data\",\n  \"rows\": 61120,\n  \"fields\": [\n    {\n      \"column\": \"Sentiment\",\n      \"properties\": {\n        \"dtype\": \"number\",\n        \"std\": 0,\n        \"min\": 0,\n        \"max\": 2,\n        \"num_unique_values\": 3,\n        \"samples\": [\n          2,\n          1,\n          0\n        ],\n        \"semantic_type\": \"\",\n        \"description\": \"\"\n      }\n    },\n    {\n      \"column\": \"Text\",\n      \"properties\": {\n        \"dtype\": \"string\",\n        \"num_unique_values\": 56686,\n        \"samples\": [\n          \"score streak they are the worst thing to happen even in black square ops cold war.\",\n          \"@ blizzard _ ent @ warcraft @ blizzardcs @ atvi _ ab you're doing a great job. tell me you know there are big problem with your game after a patch you've been talking about forever.... urge me to pay for an expansion... and then tell me you don't know when you can fix it. https: / / t.co / c9gfvr7ymc\",\n          \"the rhandlerr r6 tournament grand final is in 20 minute crab the popcorn bois cause it's gonna be a good one!!!. twitch.tv/moderator/euro\\u2026. .\"\n        ],\n        \"semantic_type\": \"\",\n        \"description\": \"\"\n      }\n    }\n  ]\n}"
            }
          },
          "metadata": {},
          "execution_count": 14
        }
      ]
    },
    {
      "cell_type": "code",
      "execution_count": 4,
      "metadata": {
        "colab": {
          "base_uri": "https://localhost:8080/"
        },
        "id": "fax6iCyHg2cK",
        "outputId": "55aa1340-b676-4cae-a478-33ab6ac823f0"
      },
      "outputs": [
        {
          "output_type": "stream",
          "name": "stdout",
          "text": [
            "Accuracy: 0.7041066753926701\n",
            "\n",
            "Classification Report:\n",
            "               precision    recall  f1-score   support\n",
            "\n",
            "           0       0.70      0.79      0.74      4444\n",
            "           1       0.71      0.57      0.63      3679\n",
            "           2       0.70      0.73      0.71      4101\n",
            "\n",
            "    accuracy                           0.70     12224\n",
            "   macro avg       0.70      0.70      0.70     12224\n",
            "weighted avg       0.70      0.70      0.70     12224\n",
            "\n"
          ]
        },
        {
          "output_type": "execute_result",
          "data": {
            "text/plain": [
              "['naive_bayes_model.pkl']"
            ]
          },
          "metadata": {},
          "execution_count": 4
        }
      ],
      "source": [
        "\n",
        "# Drop unnecessary columns and missing values\n",
        "data = data[['Sentiment', 'Text']].dropna(subset=['Text']).reset_index(drop=True)\n",
        "\n",
        "data['Text'] = data['Text'].str.lower()\n",
        "\n",
        "from nltk.stem import WordNetLemmatizer\n",
        "lemmatizer = WordNetLemmatizer()\n",
        "data['Text'] = data['Text'].apply(lambda x: ' '.join(lemmatizer.lemmatize(word) for word in x.split()))\n",
        "\n",
        "# Filter to keep only relevant sentiments\n",
        "data = data[data['Sentiment'].isin(['Positive', 'Neutral', 'Negative'])].reset_index(drop=True)\n",
        "\n",
        "# Map sentiments to numerical values\n",
        "sentiment_map = {'Negative': 0, 'Neutral': 1, 'Positive': 2}\n",
        "data['Sentiment'] = data['Sentiment'].map(sentiment_map)\n",
        "\n",
        "# Split data into training and testing sets\n",
        "X = data['Text']\n",
        "y = data['Sentiment']\n",
        "X_train, X_test, y_train, y_test = train_test_split(X, y, test_size=0.2, random_state=42)\n",
        "\n",
        "# Preprocess and vectorize text\n",
        "vectorizer = CountVectorizer(stop_words='english', max_features=5000)\n",
        "X_train_vect = vectorizer.fit_transform(X_train)\n",
        "X_test_vect = vectorizer.transform(X_test)\n",
        "\n",
        "# Train a Naive Bayes classifier\n",
        "model = MultinomialNB()\n",
        "model.fit(X_train_vect, y_train)\n",
        "\n",
        "# Make predictions\n",
        "y_pred = model.predict(X_test_vect)\n",
        "\n",
        "# Evaluate the model\n",
        "print(\"Accuracy:\", accuracy_score(y_test, y_pred))\n",
        "print(\"\\nClassification Report:\\n\", classification_report(y_test, y_pred))\n",
        "\n",
        "# Optional: Save the vectorizer and model for future use\n",
        "import joblib\n",
        "joblib.dump(vectorizer, 'vectorizer.pkl')\n",
        "joblib.dump(model, 'naive_bayes_model.pkl')\n"
      ]
    },
    {
      "cell_type": "code",
      "source": [
        "model.score(X_test_vect,y_test)"
      ],
      "metadata": {
        "id": "kXuXVebNMrL4",
        "outputId": "f48c67e8-e581-4b89-e930-f456ba976631",
        "colab": {
          "base_uri": "https://localhost:8080/"
        }
      },
      "execution_count": 15,
      "outputs": [
        {
          "output_type": "execute_result",
          "data": {
            "text/plain": [
              "0.7041066753926701"
            ]
          },
          "metadata": {},
          "execution_count": 15
        }
      ]
    },
    {
      "cell_type": "code",
      "source": [
        "model.score(X_train_vect,y_train)"
      ],
      "metadata": {
        "id": "WpyKoIieM-WA",
        "outputId": "8c65e5b2-d37e-4eed-d713-f6ec75840390",
        "colab": {
          "base_uri": "https://localhost:8080/"
        }
      },
      "execution_count": 16,
      "outputs": [
        {
          "output_type": "execute_result",
          "data": {
            "text/plain": [
              "0.7380562827225131"
            ]
          },
          "metadata": {},
          "execution_count": 16
        }
      ]
    },
    {
      "cell_type": "code",
      "execution_count": 8,
      "metadata": {
        "colab": {
          "base_uri": "https://localhost:8080/"
        },
        "id": "5wKNboq5hLZG",
        "outputId": "41e29f8e-6d9d-441e-9718-abd8a705c3da"
      },
      "outputs": [
        {
          "output_type": "stream",
          "name": "stdout",
          "text": [
            "Enter your text: i want to be happy\n",
            "The predicted sentiment is: Positive\n"
          ]
        }
      ],
      "source": [
        "\n",
        "\n",
        "# Load the trained model and vectorizer\n",
        "vectorizer = joblib.load('vectorizer.pkl')\n",
        "model = joblib.load('naive_bayes_model.pkl')\n",
        "\n",
        "# Function to predict sentiment for custom input\n",
        "def predict_sentiment(custom_text):\n",
        "    # Preprocess and vectorize custom input\n",
        "    custom_vect = vectorizer.transform([custom_text])\n",
        "\n",
        "    # Predict sentiment\n",
        "    sentiment_label = model.predict(custom_vect)[0]\n",
        "\n",
        "    # Map numeric label back to sentiment\n",
        "    sentiment_map = {0: 'Negative', 1: 'Neutral', 2: 'Positive'}\n",
        "    return sentiment_map[sentiment_label]\n",
        "\n",
        "# Take custom input from the user\n",
        "custom_input = input(\"Enter your text: \")\n",
        "predicted_sentiment = predict_sentiment(custom_input)\n",
        "print(f\"The predicted sentiment is: {predicted_sentiment}\")\n"
      ]
    },
    {
      "cell_type": "code",
      "execution_count": 6,
      "metadata": {
        "colab": {
          "base_uri": "https://localhost:8080/"
        },
        "id": "blyhxwwoiWug",
        "outputId": "454883e4-dda6-4503-c55b-bafa688aa9e4"
      },
      "outputs": [
        {
          "output_type": "stream",
          "name": "stdout",
          "text": [
            "Sentiment\n",
            "0    22358\n",
            "2    20654\n",
            "1    18108\n",
            "Name: count, dtype: int64\n",
            "\n",
            "Sentiment counts with labels:\n",
            "Sentiment\n",
            "Negative    22358\n",
            "Positive    20654\n",
            "Neutral     18108\n",
            "Name: count, dtype: int64\n"
          ]
        }
      ],
      "source": [
        "# Check the count of each sentiment category\n",
        "sentiment_counts = data['Sentiment'].value_counts()\n",
        "\n",
        "# Print the counts for each sentiment\n",
        "print(sentiment_counts)\n",
        "\n",
        "# Optionally, map the numeric labels back to sentiment names\n",
        "sentiment_map = {0: 'Negative', 1: 'Neutral', 2: 'Positive'}\n",
        "sentiment_counts = sentiment_counts.rename(sentiment_map)\n",
        "\n",
        "# Print the counts with sentiment names\n",
        "print(\"\\nSentiment counts with labels:\")\n",
        "print(sentiment_counts)\n"
      ]
    },
    {
      "cell_type": "code",
      "execution_count": null,
      "metadata": {
        "id": "vg2e8LrNiiFM"
      },
      "outputs": [],
      "source": []
    },
    {
      "cell_type": "code",
      "execution_count": 7,
      "metadata": {
        "colab": {
          "base_uri": "https://localhost:8080/"
        },
        "id": "7-xtAlOOi8kW",
        "outputId": "5a5097d9-a957-4bf7-e79d-ed44b0801c49"
      },
      "outputs": [
        {
          "output_type": "stream",
          "name": "stdout",
          "text": [
            "Accuracy: 0.7917212041884817\n",
            "\n",
            "Classification Report:\n",
            "               precision    recall  f1-score   support\n",
            "\n",
            "           0       0.81      0.84      0.82      4444\n",
            "           1       0.82      0.70      0.76      3679\n",
            "           2       0.75      0.82      0.79      4101\n",
            "\n",
            "    accuracy                           0.79     12224\n",
            "   macro avg       0.79      0.79      0.79     12224\n",
            "weighted avg       0.79      0.79      0.79     12224\n",
            "\n"
          ]
        },
        {
          "output_type": "execute_result",
          "data": {
            "text/plain": [
              "['svm_model.pkl']"
            ]
          },
          "metadata": {},
          "execution_count": 7
        }
      ],
      "source": [
        "from sklearn.svm import SVC\n",
        "from sklearn.metrics import classification_report, accuracy_score\n",
        "# Train a Support Vector Machine (SVM) classifier\n",
        "svm_model = SVC(kernel='linear')  # Linear kernel for text classification\n",
        "svm_model.fit(X_train_vect, y_train)\n",
        "\n",
        "# Make predictions\n",
        "y_pred = svm_model.predict(X_test_vect)\n",
        "\n",
        "# Evaluate the model\n",
        "print(\"Accuracy:\", accuracy_score(y_test, y_pred))\n",
        "print(\"\\nClassification Report:\\n\", classification_report(y_test, y_pred))\n",
        "\n",
        "# Optional: Save the vectorizer and model for future use\n",
        "joblib.dump(vectorizer, 'vectorizer_svm.pkl')\n",
        "joblib.dump(svm_model, 'svm_model.pkl')"
      ]
    },
    {
      "cell_type": "code",
      "execution_count": 11,
      "metadata": {
        "colab": {
          "base_uri": "https://localhost:8080/"
        },
        "id": "POPqNb3Bj11v",
        "outputId": "00b44388-55ce-4813-ad83-52a4594eda6c"
      },
      "outputs": [
        {
          "output_type": "stream",
          "name": "stdout",
          "text": [
            "Enter your text: Come meet one of the lovely Gaming Goddesses\n",
            "The predicted sentiment is: Positive\n"
          ]
        }
      ],
      "source": [
        "import joblib\n",
        "\n",
        "# Load the trained model and vectorizer\n",
        "vectorizer = joblib.load('vectorizer_svm.pkl')\n",
        "svm_model = joblib.load('svm_model.pkl')\n",
        "\n",
        "# Function to predict sentiment for custom input\n",
        "def predict_sentiment(custom_text):\n",
        "    # Preprocess and vectorize custom input\n",
        "    custom_vect = vectorizer.transform([custom_text])\n",
        "\n",
        "    # Predict sentiment\n",
        "    sentiment_label = svm_model.predict(custom_vect)[0]\n",
        "\n",
        "    # Map numeric label back to sentiment\n",
        "    sentiment_map = {0: 'Negative', 1: 'Neutral', 2: 'Positive'}\n",
        "    return sentiment_map[sentiment_label]\n",
        "\n",
        "# Test with a custom input\n",
        "custom_input = input(\"Enter your text: \")\n",
        "predicted_sentiment = predict_sentiment(custom_input)\n",
        "print(f\"The predicted sentiment is: {predicted_sentiment}\")\n",
        "\n",
        "#Check out this epic streamer!\n",
        "#Come meet one of the lovely Gaming Goddesses"
      ]
    },
    {
      "cell_type": "code",
      "execution_count": null,
      "metadata": {
        "id": "rQP3u22blgfb"
      },
      "outputs": [],
      "source": []
    },
    {
      "cell_type": "code",
      "execution_count": null,
      "metadata": {
        "id": "XRJ0uYzLluSc"
      },
      "outputs": [],
      "source": [
        "import tensorflow as tf\n",
        "from tensorflow.keras.preprocessing.text import Tokenizer\n",
        "from tensorflow.keras.preprocessing.sequence import pad_sequences\n",
        "from tensorflow.keras.models import Sequential\n",
        "from tensorflow.keras.layers import Embedding, SimpleRNN, Dense, Dropout\n",
        "from tensorflow.keras.optimizers import Adam"
      ]
    },
    {
      "cell_type": "code",
      "execution_count": null,
      "metadata": {
        "colab": {
          "background_save": true,
          "base_uri": "https://localhost:8080/"
        },
        "id": "qCDxFODJlvoM",
        "outputId": "f9e0c203-cb9c-4c17-d1ab-f47776973ec7"
      },
      "outputs": [
        {
          "name": "stdout",
          "output_type": "stream",
          "text": [
            "Epoch 1/5\n"
          ]
        },
        {
          "name": "stderr",
          "output_type": "stream",
          "text": [
            "/usr/local/lib/python3.10/dist-packages/keras/src/layers/core/embedding.py:90: UserWarning: Argument `input_length` is deprecated. Just remove it.\n",
            "  warnings.warn(\n"
          ]
        },
        {
          "name": "stdout",
          "output_type": "stream",
          "text": [
            "\u001b[1m764/764\u001b[0m \u001b[32m━━━━━━━━━━━━━━━━━━━━\u001b[0m\u001b[37m\u001b[0m \u001b[1m92s\u001b[0m 119ms/step - accuracy: 0.3527 - loss: 1.1082 - val_accuracy: 0.3635 - val_loss: 1.0961\n",
            "Epoch 2/5\n",
            "\u001b[1m764/764\u001b[0m \u001b[32m━━━━━━━━━━━━━━━━━━━━\u001b[0m\u001b[37m\u001b[0m \u001b[1m141s\u001b[0m 118ms/step - accuracy: 0.3540 - loss: 1.1007 - val_accuracy: 0.3657 - val_loss: 1.0964\n",
            "Epoch 3/5\n",
            "\u001b[1m764/764\u001b[0m \u001b[32m━━━━━━━━━━━━━━━━━━━━\u001b[0m\u001b[37m\u001b[0m \u001b[1m145s\u001b[0m 122ms/step - accuracy: 0.3505 - loss: 1.1039 - val_accuracy: 0.3635 - val_loss: 1.0959\n",
            "Epoch 4/5\n",
            "\u001b[1m764/764\u001b[0m \u001b[32m━━━━━━━━━━━━━━━━━━━━\u001b[0m\u001b[37m\u001b[0m \u001b[1m135s\u001b[0m 112ms/step - accuracy: 0.3616 - loss: 1.1003 - val_accuracy: 0.3586 - val_loss: 1.0959\n",
            "Epoch 5/5\n",
            "\u001b[1m764/764\u001b[0m \u001b[32m━━━━━━━━━━━━━━━━━━━━\u001b[0m\u001b[37m\u001b[0m \u001b[1m143s\u001b[0m 114ms/step - accuracy: 0.3525 - loss: 1.0997 - val_accuracy: 0.3635 - val_loss: 1.0954\n"
          ]
        }
      ],
      "source": [
        "# Tokenize and vectorize text data\n",
        "tokenizer = Tokenizer(num_words=5000)\n",
        "tokenizer.fit_on_texts(X_train)\n",
        "\n",
        "X_train_seq = tokenizer.texts_to_sequences(X_train)\n",
        "X_test_seq = tokenizer.texts_to_sequences(X_test)\n",
        "\n",
        "# Pad sequences to ensure equal length\n",
        "X_train_pad = pad_sequences(X_train_seq, padding='post', maxlen=100)\n",
        "X_test_pad = pad_sequences(X_test_seq, padding='post', maxlen=100)\n",
        "\n",
        "# Build the RNN model\n",
        "model = Sequential()\n",
        "\n",
        "model.add(Embedding(input_dim=5000, output_dim=256, input_length=100))  # Increased embedding size\n",
        "model.add(SimpleRNN(units=128, return_sequences=False))  # Increased RNN units\n",
        "\n",
        "\n",
        "# Embedding layer to convert text into dense vectors of fixed size\n",
        "#model.add(Embedding(input_dim=5000, output_dim=128, input_length=100))\n",
        "\n",
        "# Recurrent layer (SimpleRNN)\n",
        "#model.add(SimpleRNN(units=64, return_sequences=False))\n",
        "\n",
        "# Dropout layer to avoid overfitting\n",
        "model.add(Dropout(0.5))\n",
        "\n",
        "# Dense layer to output the final prediction\n",
        "model.add(Dense(3, activation='softmax'))  # 3 classes: Positive, Neutral, Negative\n",
        "\n",
        "# Compile the model\n",
        "model.compile(optimizer=Adam(), loss='sparse_categorical_crossentropy', metrics=['accuracy'])\n",
        "\n",
        "# Train the model\n",
        "history = model.fit(X_train_pad, y_train, epochs=5, batch_size=64, validation_data=(X_test_pad, y_test))\n",
        "\n"
      ]
    },
    {
      "cell_type": "code",
      "execution_count": null,
      "metadata": {
        "colab": {
          "base_uri": "https://localhost:8080/"
        },
        "id": "mRLXMpSzoGiz",
        "outputId": "d9ef33ae-4685-42b3-caf8-ed08187d9947"
      },
      "outputs": [
        {
          "name": "stdout",
          "output_type": "stream",
          "text": [
            "\u001b[1m382/382\u001b[0m \u001b[32m━━━━━━━━━━━━━━━━━━━━\u001b[0m\u001b[37m\u001b[0m \u001b[1m6s\u001b[0m 15ms/step - accuracy: 0.4670 - loss: 1.0319\n",
            "Test Accuracy: 0.4718\n"
          ]
        }
      ],
      "source": [
        "import numpy as np\n",
        "\n",
        "# Evaluate the model\n",
        "loss, accuracy = model.evaluate(X_test_pad, y_test)\n",
        "print(f\"Test Accuracy: {accuracy:.4f}\")\n",
        "\n",
        "# Optional: Save the tokenizer and model for future use\n",
        "joblib.dump(tokenizer, 'tokenizer_rnn.pkl')\n",
        "model.save('my_model.keras')\n",
        "# Predict sentiment for a custom input\n",
        "def predict_sentiment(custom_text):\n",
        "    custom_seq = tokenizer.texts_to_sequences([custom_text])\n",
        "    custom_pad = pad_sequences(custom_seq, padding='post', maxlen=100)\n",
        "    sentiment_prob = model.predict(custom_pad)\n",
        "    sentiment_label = np.argmax(sentiment_prob, axis=1)[0]\n",
        "\n",
        "    # Map numeric label back to sentiment\n",
        "    sentiment_map = {0: 'Negative', 1: 'Neutral', 2: 'Positive'}\n",
        "    return sentiment_map[sentiment_label]"
      ]
    },
    {
      "cell_type": "code",
      "execution_count": null,
      "metadata": {
        "id": "aETPQAUbncBq"
      },
      "outputs": [],
      "source": [
        "custom_input = input(\"Enter text for sentiment prediction: \")\n",
        "predicted_sentiment = predict_sentiment(custom_input)\n",
        "print(f\"The predicted sentiment is: {predicted_sentiment}\")"
      ]
    },
    {
      "cell_type": "code",
      "execution_count": null,
      "metadata": {
        "colab": {
          "base_uri": "https://localhost:8080/",
          "height": 466
        },
        "id": "XDdlxNT2w6ye",
        "outputId": "3a017139-7000-4909-baa0-faaf6262cf16"
      },
      "outputs": [
        {
          "name": "stdout",
          "output_type": "stream",
          "text": [
            "\u001b[1m382/382\u001b[0m \u001b[32m━━━━━━━━━━━━━━━━━━━━\u001b[0m\u001b[37m\u001b[0m \u001b[1m6s\u001b[0m 13ms/step\n"
          ]
        },
        {
          "data": {
            "image/png": "[encoded data removed]",
            "text/plain": [
              "<Figure size 640x480 with 2 Axes>"
            ]
          },
          "metadata": {},
          "output_type": "display_data"
        }
      ],
      "source": []
    },
    {
      "cell_type": "code",
      "source": [
        "from sklearn.metrics import confusion_matrix, ConfusionMatrixDisplay\n",
        "\n",
        "# Generate the confusion matrix\n",
        "cm = confusion_matrix(y_test, y_pred, labels=svm_model.classes_)\n",
        "\n",
        "# Create a confusion matrix display\n",
        "disp = ConfusionMatrixDisplay(confusion_matrix=cm, display_labels=svm_model.classes_)\n",
        "\n",
        "# Visualize the confusion matrix\n",
        "plt.figure(figsize=(10, 8))\n",
        "disp.plot(cmap=\"Blues\", values_format='d')\n",
        "plt.title(\"Confusion Matrix\", fontsize=16)\n",
        "plt.show()\n"
      ],
      "metadata": {
        "id": "RV2Y0z5LGWN1",
        "outputId": "6be23485-5f45-4f4e-e67e-8f8190453026",
        "colab": {
          "base_uri": "https://localhost:8080/",
          "height": 491
        }
      },
      "execution_count": 13,
      "outputs": [
        {
          "output_type": "display_data",
          "data": {
            "text/plain": [
              "<Figure size 1000x800 with 0 Axes>"
            ]
          },
          "metadata": {}
        },
        {
          "output_type": "display_data",
          "data": {
            "text/plain": [
              "<Figure size 640x480 with 2 Axes>"
            ],
            "image/png": "[encoded data removed]"
          },
          "metadata": {}
        }
      ]
    }
  ],
  "metadata": {
    "colab": {
      "provenance": []
    },
    "kernelspec": {
      "display_name": "Python 3",
      "name": "python3"
    },
    "language_info": {
      "name": "python"
    }
  },
  "nbformat": 4,
  "nbformat_minor": 0
}